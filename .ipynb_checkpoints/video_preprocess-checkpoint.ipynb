{
 "cells": [
  {
   "cell_type": "markdown",
   "metadata": {
    "id": "mt9dL5dIir8X"
   },
   "source": [
    "##### Copyright 2022 The TensorFlow Authors."
   ]
  },
  {
   "cell_type": "code",
   "execution_count": 93,
   "metadata": {
    "cellView": "form",
    "execution": {
     "iopub.execute_input": "2023-01-07T02:24:55.447294Z",
     "iopub.status.busy": "2023-01-07T02:24:55.446851Z",
     "iopub.status.idle": "2023-01-07T02:24:55.450288Z",
     "shell.execute_reply": "2023-01-07T02:24:55.449733Z"
    },
    "id": "ufPx7EiCiqgR"
   },
   "outputs": [],
   "source": [
    "#@title Licensed under the Apache License, Version 2.0 (the \"License\");\n",
    "# you may not use this file except in compliance with the License.\n",
    "# You may obtain a copy of the License at\n",
    "#\n",
    "# https://www.apache.org/licenses/LICENSE-2.0\n",
    "#\n",
    "# Unless required by applicable law or agreed to in writing, software\n",
    "# distributed under the License is distributed on an \"AS IS\" BASIS,\n",
    "# WITHOUT WARRANTIES OR CONDITIONS OF ANY KIND, either express or implied.\n",
    "# See the License for the specific language governing permissions and\n",
    "# limitations under the License.\n"
   ]
  },
  {
   "cell_type": "markdown",
   "metadata": {
    "id": "4StGz9ynOEL6"
   },
   "source": [
    "# Load video data"
   ]
  },
  {
   "cell_type": "markdown",
   "metadata": {
    "id": "KwQtSOz0VrVX"
   },
   "source": [
    "<table class=\"tfo-notebook-buttons\" align=\"left\">\n",
    "  <td>\n",
    "    <a target=\"_blank\" href=\"https://www.tensorflow.org/tutorials/load_data/video\"><img src=\"https://www.tensorflow.org/images/tf_logo_32px.png\" />View on TensorFlow.org</a>\n",
    "  </td>\n",
    "  <td>\n",
    "    <a target=\"_blank\" href=\"https://colab.research.google.com/github/tensorflow/docs/blob/master/site/en/tutorials/load_data/video.ipynb\"><img src=\"https://www.tensorflow.org/images/colab_logo_32px.png\" />Run in Google Colab</a>\n",
    "  </td>\n",
    "  <td>\n",
    "    <a target=\"_blank\" href=\"https://github.com/tensorflow/docs/blob/master/site/en/tutorials/load_data/video.ipynb\"><img src=\"https://www.tensorflow.org/images/GitHub-Mark-32px.png\" />View source on GitHub</a>\n",
    "  </td>\n",
    "  <td>\n",
    "    <a href=\"https://storage.googleapis.com/tensorflow_docs/docs/site/en/tutorials/load_data/video.ipynb\"><img src=\"https://www.tensorflow.org/images/download_logo_32px.png\" />Download notebook</a>\n",
    "  </td>\n",
    "</table>"
   ]
  },
  {
   "cell_type": "markdown",
   "metadata": {
    "id": "F-SqCosJ6-0H"
   },
   "source": [
    "This tutorial demonstrates how to load and preprocess [AVI](https://en.wikipedia.org/wiki/Audio_Video_Interleave) video data using the [UCF101 human action dataset](https://www.tensorflow.org/datasets/catalog/ucf101). Once you have preprocessed the data, it can be used for such tasks as video classification/recognition, captioning or clustering. The original dataset contains realistic action videos collected from YouTube with 101 categories, including playing cello, brushing teeth, and applying eye makeup. You will learn how to:\n",
    "\n",
    "* Load the data from a zip file.\n",
    "\n",
    "* Read sequences of frames out of the video files.\n",
    "\n",
    "* Visualize the video data.\n",
    "\n",
    "* Wrap the frame-generator [`tf.data.Dataset`](https://www.tensorflow.org/guide/data).\n",
    "\n",
    "This video loading and preprocessing tutorial is the first part in a series of TensorFlow video tutorials. Here are the other three tutorials:\n",
    "\n",
    "- [Build a 3D CNN model for video classification](https://www.tensorflow.org/tutorials/video/video_classification): Note that this tutorial uses a (2+1)D CNN that decomposes the spatial and temporal aspects of 3D data; if you are using volumetric data such as an MRI scan, consider using a 3D CNN instead of a (2+1)D CNN.\n",
    "- [MoViNet for streaming action recognition](https://www.tensorflow.org/hub/tutorials/movinet): Get familiar with the MoViNet models that are available on TF Hub.\n",
    "- [Transfer learning for video classification with MoViNet](https://www.tensorflow.org/tutorials/video/transfer_learning_with_movinet): This tutorial explains how to use a pre-trained video classification model trained on a different dataset with the UCF-101 dataset."
   ]
  },
  {
   "cell_type": "markdown",
   "metadata": {
    "id": "PnpPjKVD68eH"
   },
   "source": [
    "## Setup\n",
    "\n",
    "Begin by installing and importing some necessary libraries, including:\n",
    "[remotezip](https://github.com/gtsystem/python-remotezip) to inspect the contents of a ZIP file, [tqdm](https://github.com/tqdm/tqdm) to use a progress bar, [OpenCV](https://opencv.org/) to process video files, and [`tensorflow_docs`](https://github.com/tensorflow/docs/tree/master/tools/tensorflow_docs) for embedding data in a Jupyter notebook."
   ]
  },
  {
   "cell_type": "code",
   "execution_count": 94,
   "metadata": {
    "execution": {
     "iopub.execute_input": "2023-01-07T02:24:55.453748Z",
     "iopub.status.busy": "2023-01-07T02:24:55.453543Z",
     "iopub.status.idle": "2023-01-07T02:24:57.249148Z",
     "shell.execute_reply": "2023-01-07T02:24:57.248343Z"
    },
    "id": "SjI3AaaO16bd"
   },
   "outputs": [
    {
     "name": "stdout",
     "output_type": "stream",
     "text": [
      "Requirement already satisfied: tensorflow==2.10.0 in /usr/local/lib/python3.8/dist-packages (2.10.0)\n",
      "Requirement already satisfied: absl-py>=1.0.0 in /usr/local/lib/python3.8/dist-packages (from tensorflow==2.10.0) (1.4.0)\n",
      "Requirement already satisfied: astunparse>=1.6.0 in /usr/local/lib/python3.8/dist-packages (from tensorflow==2.10.0) (1.6.3)\n",
      "Requirement already satisfied: flatbuffers>=2.0 in /usr/local/lib/python3.8/dist-packages (from tensorflow==2.10.0) (23.3.3)\n",
      "Requirement already satisfied: gast<=0.4.0,>=0.2.1 in /usr/local/lib/python3.8/dist-packages (from tensorflow==2.10.0) (0.4.0)\n",
      "Requirement already satisfied: google-pasta>=0.1.1 in /usr/local/lib/python3.8/dist-packages (from tensorflow==2.10.0) (0.2.0)\n",
      "Requirement already satisfied: grpcio<2.0,>=1.24.3 in /usr/local/lib/python3.8/dist-packages (from tensorflow==2.10.0) (1.51.3)\n",
      "Requirement already satisfied: h5py>=2.9.0 in /usr/local/lib/python3.8/dist-packages (from tensorflow==2.10.0) (3.8.0)\n",
      "Requirement already satisfied: keras<2.11,>=2.10.0 in /usr/local/lib/python3.8/dist-packages (from tensorflow==2.10.0) (2.10.0)\n",
      "Requirement already satisfied: keras-preprocessing>=1.1.1 in /usr/local/lib/python3.8/dist-packages (from tensorflow==2.10.0) (1.1.2)\n",
      "Requirement already satisfied: libclang>=13.0.0 in /usr/local/lib/python3.8/dist-packages (from tensorflow==2.10.0) (16.0.0)\n",
      "Requirement already satisfied: numpy>=1.20 in /usr/local/lib/python3.8/dist-packages (from tensorflow==2.10.0) (1.23.5)\n",
      "Requirement already satisfied: opt-einsum>=2.3.2 in /usr/local/lib/python3.8/dist-packages (from tensorflow==2.10.0) (3.3.0)\n",
      "Requirement already satisfied: packaging in /usr/local/lib/python3.8/dist-packages (from tensorflow==2.10.0) (23.0)\n",
      "Requirement already satisfied: protobuf<3.20,>=3.9.2 in /usr/local/lib/python3.8/dist-packages (from tensorflow==2.10.0) (3.19.6)\n",
      "Requirement already satisfied: setuptools in /usr/local/lib/python3.8/dist-packages (from tensorflow==2.10.0) (67.6.0)\n",
      "Requirement already satisfied: six>=1.12.0 in /usr/lib/python3/dist-packages (from tensorflow==2.10.0) (1.14.0)\n",
      "Requirement already satisfied: tensorboard<2.11,>=2.10 in /usr/local/lib/python3.8/dist-packages (from tensorflow==2.10.0) (2.10.1)\n",
      "Requirement already satisfied: tensorflow-io-gcs-filesystem>=0.23.1 in /usr/local/lib/python3.8/dist-packages (from tensorflow==2.10.0) (0.31.0)\n",
      "Requirement already satisfied: tensorflow-estimator<2.11,>=2.10.0 in /usr/local/lib/python3.8/dist-packages (from tensorflow==2.10.0) (2.10.0)\n",
      "Requirement already satisfied: termcolor>=1.1.0 in /usr/local/lib/python3.8/dist-packages (from tensorflow==2.10.0) (2.2.0)\n",
      "Requirement already satisfied: typing-extensions>=3.6.6 in /usr/local/lib/python3.8/dist-packages (from tensorflow==2.10.0) (4.5.0)\n",
      "Requirement already satisfied: wrapt>=1.11.0 in /usr/local/lib/python3.8/dist-packages (from tensorflow==2.10.0) (1.14.1)\n",
      "Requirement already satisfied: wheel<1.0,>=0.23.0 in /usr/local/lib/python3.8/dist-packages (from astunparse>=1.6.0->tensorflow==2.10.0) (0.40.0)\n",
      "Requirement already satisfied: google-auth<3,>=1.6.3 in /usr/local/lib/python3.8/dist-packages (from tensorboard<2.11,>=2.10->tensorflow==2.10.0) (2.16.2)\n",
      "Requirement already satisfied: google-auth-oauthlib<0.5,>=0.4.1 in /usr/local/lib/python3.8/dist-packages (from tensorboard<2.11,>=2.10->tensorflow==2.10.0) (0.4.6)\n",
      "Requirement already satisfied: markdown>=2.6.8 in /usr/local/lib/python3.8/dist-packages (from tensorboard<2.11,>=2.10->tensorflow==2.10.0) (3.4.3)\n",
      "Requirement already satisfied: requests<3,>=2.21.0 in /usr/lib/python3/dist-packages (from tensorboard<2.11,>=2.10->tensorflow==2.10.0) (2.22.0)\n",
      "Requirement already satisfied: tensorboard-data-server<0.7.0,>=0.6.0 in /usr/local/lib/python3.8/dist-packages (from tensorboard<2.11,>=2.10->tensorflow==2.10.0) (0.6.1)\n",
      "Requirement already satisfied: tensorboard-plugin-wit>=1.6.0 in /usr/local/lib/python3.8/dist-packages (from tensorboard<2.11,>=2.10->tensorflow==2.10.0) (1.8.1)\n",
      "Requirement already satisfied: werkzeug>=1.0.1 in /usr/local/lib/python3.8/dist-packages (from tensorboard<2.11,>=2.10->tensorflow==2.10.0) (2.2.3)\n",
      "Requirement already satisfied: cachetools<6.0,>=2.0.0 in /usr/local/lib/python3.8/dist-packages (from google-auth<3,>=1.6.3->tensorboard<2.11,>=2.10->tensorflow==2.10.0) (5.3.0)\n",
      "Requirement already satisfied: pyasn1-modules>=0.2.1 in /usr/local/lib/python3.8/dist-packages (from google-auth<3,>=1.6.3->tensorboard<2.11,>=2.10->tensorflow==2.10.0) (0.2.8)\n",
      "Requirement already satisfied: rsa<5,>=3.1.4 in /usr/local/lib/python3.8/dist-packages (from google-auth<3,>=1.6.3->tensorboard<2.11,>=2.10->tensorflow==2.10.0) (4.9)\n",
      "Requirement already satisfied: requests-oauthlib>=0.7.0 in /usr/local/lib/python3.8/dist-packages (from google-auth-oauthlib<0.5,>=0.4.1->tensorboard<2.11,>=2.10->tensorflow==2.10.0) (1.3.1)\n",
      "Requirement already satisfied: importlib-metadata>=4.4 in /usr/local/lib/python3.8/dist-packages (from markdown>=2.6.8->tensorboard<2.11,>=2.10->tensorflow==2.10.0) (6.1.0)\n",
      "Requirement already satisfied: MarkupSafe>=2.1.1 in /usr/local/lib/python3.8/dist-packages (from werkzeug>=1.0.1->tensorboard<2.11,>=2.10->tensorflow==2.10.0) (2.1.2)\n",
      "Requirement already satisfied: zipp>=0.5 in /usr/local/lib/python3.8/dist-packages (from importlib-metadata>=4.4->markdown>=2.6.8->tensorboard<2.11,>=2.10->tensorflow==2.10.0) (3.15.0)\n",
      "Requirement already satisfied: pyasn1<0.5.0,>=0.4.6 in /usr/local/lib/python3.8/dist-packages (from pyasn1-modules>=0.2.1->google-auth<3,>=1.6.3->tensorboard<2.11,>=2.10->tensorflow==2.10.0) (0.4.8)\n",
      "Requirement already satisfied: oauthlib>=3.0.0 in /usr/local/lib/python3.8/dist-packages (from requests-oauthlib>=0.7.0->google-auth-oauthlib<0.5,>=0.4.1->tensorboard<2.11,>=2.10->tensorflow==2.10.0) (3.2.2)\n",
      "\u001b[33mWARNING: Running pip as the 'root' user can result in broken permissions and conflicting behaviour with the system package manager. It is recommended to use a virtual environment instead: https://pip.pypa.io/warnings/venv\u001b[0m\u001b[33m\n",
      "\u001b[0m"
     ]
    }
   ],
   "source": [
    "# The way this tutorial uses the `TimeDistributed` layer requires TF>=2.10\n",
    "!pip install -U \"tensorflow==2.10.0\""
   ]
  },
  {
   "cell_type": "code",
   "execution_count": 95,
   "metadata": {},
   "outputs": [
    {
     "data": {
      "text/plain": [
       "'/tf/notebooks/ASL Test'"
      ]
     },
     "execution_count": 95,
     "metadata": {},
     "output_type": "execute_result"
    }
   ],
   "source": [
    "import os\n",
    "os.getcwd()"
   ]
  },
  {
   "cell_type": "code",
   "execution_count": null,
   "metadata": {
    "execution": {
     "iopub.execute_input": "2023-01-07T02:24:57.253730Z",
     "iopub.status.busy": "2023-01-07T02:24:57.253013Z",
     "iopub.status.idle": "2023-01-07T02:25:08.190659Z",
     "shell.execute_reply": "2023-01-07T02:25:08.189665Z"
    },
    "id": "P5SBasQcbwQA"
   },
   "outputs": [],
   "source": [
    "!pip install remotezip tqdm opencv-python\n",
    "#!pip install -q git+https://github.com/tensorflow/docs"
   ]
  },
  {
   "cell_type": "code",
   "execution_count": 97,
   "metadata": {},
   "outputs": [
    {
     "name": "stdout",
     "output_type": "stream",
     "text": [
      "Python 3.8.10\r\n"
     ]
    }
   ],
   "source": [
    "!python3 --version"
   ]
  },
  {
   "cell_type": "code",
   "execution_count": 98,
   "metadata": {},
   "outputs": [
    {
     "name": "stdout",
     "output_type": "stream",
     "text": [
      "Hit:1 https://developer.download.nvidia.com/compute/cuda/repos/ubuntu2004/x86_64  InRelease\n",
      "Hit:2 http://archive.ubuntu.com/ubuntu focal InRelease                         \n",
      "Hit:3 http://security.ubuntu.com/ubuntu focal-security InRelease    \n",
      "Hit:4 http://archive.ubuntu.com/ubuntu focal-updates InRelease      \n",
      "Hit:5 http://archive.ubuntu.com/ubuntu focal-backports InRelease\n",
      "Ign:6 https://developer.download.nvidia.com/compute/machine-learning/repos/ubuntu1804/x86_64  InRelease\n",
      "Hit:7 https://developer.download.nvidia.com/compute/machine-learning/repos/ubuntu1804/x86_64  Release\n",
      "Reading package lists... Done\n",
      "Reading package lists... Done\n",
      "Building dependency tree       \n",
      "Reading state information... Done\n",
      "libsm6 is already the newest version (2:1.2.3-1).\n",
      "libxext6 is already the newest version (2:1.3.4-0ubuntu1).\n",
      "ffmpeg is already the newest version (7:4.2.7-0ubuntu0.1).\n",
      "0 upgraded, 0 newly installed, 0 to remove and 52 not upgraded.\n"
     ]
    }
   ],
   "source": [
    "!apt-get update && apt-get install ffmpeg libsm6 libxext6  -y"
   ]
  },
  {
   "cell_type": "code",
   "execution_count": 99,
   "metadata": {},
   "outputs": [
    {
     "name": "stdout",
     "output_type": "stream",
     "text": [
      "Requirement already satisfied: imageio in /usr/local/lib/python3.8/dist-packages (2.30.0)\n",
      "Requirement already satisfied: numpy in /usr/local/lib/python3.8/dist-packages (from imageio) (1.23.5)\n",
      "Requirement already satisfied: pillow>=8.3.2 in /usr/local/lib/python3.8/dist-packages (from imageio) (9.4.0)\n",
      "\u001b[33mWARNING: Running pip as the 'root' user can result in broken permissions and conflicting behaviour with the system package manager. It is recommended to use a virtual environment instead: https://pip.pypa.io/warnings/venv\u001b[0m\u001b[33m\n",
      "\u001b[0mNote: you may need to restart the kernel to use updated packages.\n"
     ]
    }
   ],
   "source": [
    "pip install imageio"
   ]
  },
  {
   "cell_type": "code",
   "execution_count": 100,
   "metadata": {
    "execution": {
     "iopub.execute_input": "2023-01-07T02:25:08.195313Z",
     "iopub.status.busy": "2023-01-07T02:25:08.194619Z",
     "iopub.status.idle": "2023-01-07T02:25:10.190090Z",
     "shell.execute_reply": "2023-01-07T02:25:10.189384Z"
    },
    "id": "9RYQIJ9C6BVH"
   },
   "outputs": [
    {
     "name": "stdout",
     "output_type": "stream",
     "text": [
      "all done\n"
     ]
    }
   ],
   "source": [
    "import tqdm\n",
    "import random\n",
    "import pathlib\n",
    "import itertools\n",
    "import collections\n",
    "\n",
    "import os\n",
    "import cv2\n",
    "import numpy as np\n",
    "import remotezip as rz\n",
    "\n",
    "import tensorflow as tf\n",
    "\n",
    "# Some modules to display an animation using imageio.\n",
    "import imageio\n",
    "from IPython import display\n",
    "from urllib import request\n",
    "print('all done')"
   ]
  },
  {
   "cell_type": "markdown",
   "metadata": {
    "id": "KbhwWLLM7FXo"
   },
   "source": [
    "## Download a subset of the UCF101 dataset\n",
    "\n",
    "The [UCF101 dataset](https://www.tensorflow.org/datasets/catalog/ucf101) contains 101 categories of different actions in video, primarily used in action recognition. You will use a subset of these categories in this demo."
   ]
  },
  {
   "cell_type": "code",
   "execution_count": 101,
   "metadata": {
    "execution": {
     "iopub.execute_input": "2023-01-07T02:25:10.194081Z",
     "iopub.status.busy": "2023-01-07T02:25:10.193758Z",
     "iopub.status.idle": "2023-01-07T02:25:10.196802Z",
     "shell.execute_reply": "2023-01-07T02:25:10.196266Z"
    },
    "id": "gVIgj-jIA8U8"
   },
   "outputs": [],
   "source": [
    "FILEPATH = 'dataset.zip'"
   ]
  },
  {
   "cell_type": "markdown",
   "metadata": {
    "id": "2tm8aBzw6Md7"
   },
   "source": [
    "The above URL contains a zip file with the UCF 101 dataset. Create a function that uses the `remotezip` library to examine the contents of the zip file in that URL:"
   ]
  },
  {
   "cell_type": "code",
   "execution_count": 102,
   "metadata": {
    "execution": {
     "iopub.execute_input": "2023-01-07T02:25:10.200011Z",
     "iopub.status.busy": "2023-01-07T02:25:10.199559Z",
     "iopub.status.idle": "2023-01-07T02:25:10.203504Z",
     "shell.execute_reply": "2023-01-07T02:25:10.202928Z"
    },
    "id": "lY-x7TaZlK6O"
   },
   "outputs": [],
   "source": [
    "# def list_files_from_zip_url(zip_url):\n",
    "#   \"\"\" List the files in each class of the dataset given a URL with the zip file.\n",
    "\n",
    "#     Args:\n",
    "#       zip_url: A URL from which the files can be extracted from.\n",
    "\n",
    "#     Returns:\n",
    "#       List of files in each of the classes.\n",
    "#   \"\"\"\n",
    "#   files = []\n",
    "#   with rz.RemoteZip(zip_url) as zip:\n",
    "#     for zip_info in zip.infolist():\n",
    "#       files.append(zip_info.filename)\n",
    "#   return files\n",
    "\n",
    "import zipfile\n",
    "\n",
    "def list_files_from_zip_path(zip_file_path):\n",
    "    \"\"\" \n",
    "    List the files in each class of the dataset given a local zip file path.\n",
    "\n",
    "    Args:\n",
    "      zip_file_path: Local file path of the zip file.\n",
    "\n",
    "    Returns:\n",
    "      List of files in each of the classes.\n",
    "    \"\"\"\n",
    "    files = []\n",
    "    with zipfile.ZipFile(zip_file_path, 'r') as zip:\n",
    "        for zip_info in zip.infolist():\n",
    "            files.append(zip_info.filename)\n",
    "    return files\n"
   ]
  },
  {
   "cell_type": "code",
   "execution_count": 103,
   "metadata": {},
   "outputs": [
    {
     "name": "stdout",
     "output_type": "stream",
     "text": [
      "ASL_Test.ipynb\tdataset      model.png\r\n",
      "UCF101_subset\tdataset.zip  video_preprocess.ipynb\r\n"
     ]
    }
   ],
   "source": [
    "!ls"
   ]
  },
  {
   "cell_type": "code",
   "execution_count": 104,
   "metadata": {
    "execution": {
     "iopub.execute_input": "2023-01-07T02:25:10.206364Z",
     "iopub.status.busy": "2023-01-07T02:25:10.205973Z",
     "iopub.status.idle": "2023-01-07T02:25:10.633813Z",
     "shell.execute_reply": "2023-01-07T02:25:10.633084Z"
    },
    "id": "lYErXAdUr-rk"
   },
   "outputs": [
    {
     "data": {
      "text/plain": [
       "['before_3.mp4',\n",
       " 'before_4.mp4',\n",
       " 'before_5.mp4',\n",
       " 'before_6.mp4',\n",
       " 'before_7.mp4',\n",
       " 'before_8.mp4',\n",
       " 'before_9.mp4',\n",
       " 'before_10.mp4',\n",
       " 'before_11.mp4',\n",
       " 'before_12.mp4']"
      ]
     },
     "execution_count": 104,
     "metadata": {},
     "output_type": "execute_result"
    }
   ],
   "source": [
    "files = list_files_from_zip_path(FILEPATH)\n",
    "files = [f for f in files if f.endswith('.mp4')]\n",
    "files[:10]"
   ]
  },
  {
   "cell_type": "markdown",
   "metadata": {
    "id": "rQ4l8D9dFPS7"
   },
   "source": [
    "Begin with a few videos and a limited number of classes for training. After running the above code block, notice that the class name is included in the filename of each video.\n",
    "\n",
    "Define the `get_class` function that retrieves the class name from a filename. Then, create a function called `get_files_per_class` which converts the list of all files (`files` above) into a dictionary listing the files for each class:"
   ]
  },
  {
   "cell_type": "code",
   "execution_count": 105,
   "metadata": {
    "execution": {
     "iopub.execute_input": "2023-01-07T02:25:10.637389Z",
     "iopub.status.busy": "2023-01-07T02:25:10.636883Z",
     "iopub.status.idle": "2023-01-07T02:25:10.640286Z",
     "shell.execute_reply": "2023-01-07T02:25:10.639685Z"
    },
    "id": "yyyivOX0sO19"
   },
   "outputs": [],
   "source": [
    "def get_class(fname):\n",
    "  \"\"\" Retrieve the name of the class given a filename.\n",
    "\n",
    "    Args:\n",
    "      fname: Name of the file in the UCF101 dataset.\n",
    "\n",
    "    Returns:\n",
    "      Class that the file belongs to.\n",
    "  \"\"\"\n",
    "  return fname.split('_')[0]"
   ]
  },
  {
   "cell_type": "code",
   "execution_count": 106,
   "metadata": {
    "execution": {
     "iopub.execute_input": "2023-01-07T02:25:10.643425Z",
     "iopub.status.busy": "2023-01-07T02:25:10.642934Z",
     "iopub.status.idle": "2023-01-07T02:25:10.646473Z",
     "shell.execute_reply": "2023-01-07T02:25:10.645939Z"
    },
    "id": "1qnH0xKzlyw_"
   },
   "outputs": [],
   "source": [
    "def get_files_per_class(files):\n",
    "  \"\"\" Retrieve the files that belong to each class.\n",
    "\n",
    "    Args:\n",
    "      files: List of files in the dataset.\n",
    "\n",
    "    Returns:\n",
    "      Dictionary of class names (key) and files (values). \n",
    "  \"\"\"\n",
    "  files_for_class = collections.defaultdict(list)\n",
    "  for fname in files:\n",
    "    class_name = get_class(fname)\n",
    "    files_for_class[class_name].append(fname)\n",
    "  return files_for_class"
   ]
  },
  {
   "cell_type": "markdown",
   "metadata": {
    "id": "VxSt5YgSGrWn"
   },
   "source": [
    "Once you have the list of files per class, you can choose how many classes you would like to use and how many videos you would like per class in order to create your dataset. "
   ]
  },
  {
   "cell_type": "code",
   "execution_count": 107,
   "metadata": {
    "execution": {
     "iopub.execute_input": "2023-01-07T02:25:10.649640Z",
     "iopub.status.busy": "2023-01-07T02:25:10.649146Z",
     "iopub.status.idle": "2023-01-07T02:25:10.652023Z",
     "shell.execute_reply": "2023-01-07T02:25:10.651494Z"
    },
    "id": "qPdURg74uUTk"
   },
   "outputs": [],
   "source": [
    "NUM_CLASSES = 4\n",
    "FILES_PER_CLASS = 15"
   ]
  },
  {
   "cell_type": "code",
   "execution_count": 108,
   "metadata": {
    "execution": {
     "iopub.execute_input": "2023-01-07T02:25:10.654804Z",
     "iopub.status.busy": "2023-01-07T02:25:10.654592Z",
     "iopub.status.idle": "2023-01-07T02:25:10.661479Z",
     "shell.execute_reply": "2023-01-07T02:25:10.660928Z"
    },
    "id": "GUs0xtXsr9i3"
   },
   "outputs": [],
   "source": [
    "files_for_class = get_files_per_class(files)\n",
    "classes = list(files_for_class.keys())"
   ]
  },
  {
   "cell_type": "code",
   "execution_count": 109,
   "metadata": {
    "execution": {
     "iopub.execute_input": "2023-01-07T02:25:10.664687Z",
     "iopub.status.busy": "2023-01-07T02:25:10.664250Z",
     "iopub.status.idle": "2023-01-07T02:25:10.667596Z",
     "shell.execute_reply": "2023-01-07T02:25:10.667073Z"
    },
    "id": "-YqFARvqwon9"
   },
   "outputs": [
    {
     "name": "stdout",
     "output_type": "stream",
     "text": [
      "Num classes: 5\n",
      "Num videos for class[0]: 16\n"
     ]
    }
   ],
   "source": [
    "print('Num classes:', len(classes))\n",
    "print('Num videos for class[0]:', len(files_for_class[classes[0]]))"
   ]
  },
  {
   "cell_type": "markdown",
   "metadata": {
    "id": "yFAFqKqE92bQ"
   },
   "source": [
    "Create a new function called `select_subset_of_classes` that selects a subset of the classes present within the dataset and a particular number of files per class:"
   ]
  },
  {
   "cell_type": "code",
   "execution_count": 110,
   "metadata": {
    "execution": {
     "iopub.execute_input": "2023-01-07T02:25:10.670763Z",
     "iopub.status.busy": "2023-01-07T02:25:10.670319Z",
     "iopub.status.idle": "2023-01-07T02:25:10.673854Z",
     "shell.execute_reply": "2023-01-07T02:25:10.673264Z"
    },
    "id": "O3jek4QimIj-"
   },
   "outputs": [],
   "source": [
    "def select_subset_of_classes(files_for_class, classes, files_per_class):\n",
    "  \"\"\" Create a dictionary with the class name and a subset of the files in that class.\n",
    "\n",
    "    Args:\n",
    "      files_for_class: Dictionary of class names (key) and files (values).\n",
    "      classes: List of classes.\n",
    "      files_per_class: Number of files per class of interest.\n",
    "\n",
    "    Returns:\n",
    "      Dictionary with class as key and list of specified number of video files in that class.\n",
    "  \"\"\"\n",
    "  files_subset = dict()\n",
    "\n",
    "  for class_name in classes:\n",
    "    class_files = files_for_class[class_name]\n",
    "    files_subset[class_name] = class_files[:files_per_class]\n",
    "\n",
    "  return files_subset"
   ]
  },
  {
   "cell_type": "code",
   "execution_count": 111,
   "metadata": {
    "execution": {
     "iopub.execute_input": "2023-01-07T02:25:10.676951Z",
     "iopub.status.busy": "2023-01-07T02:25:10.676441Z",
     "iopub.status.idle": "2023-01-07T02:25:10.680557Z",
     "shell.execute_reply": "2023-01-07T02:25:10.680050Z"
    },
    "id": "5cjcz6Gpcb-W"
   },
   "outputs": [
    {
     "data": {
      "text/plain": [
       "['before', 'cool', 'drink', 'go']"
      ]
     },
     "execution_count": 111,
     "metadata": {},
     "output_type": "execute_result"
    }
   ],
   "source": [
    "files_subset = select_subset_of_classes(files_for_class, classes[:NUM_CLASSES], FILES_PER_CLASS)\n",
    "list(files_subset.keys())"
   ]
  },
  {
   "cell_type": "markdown",
   "metadata": {
    "id": "ALrlDS1lZx3E"
   },
   "source": [
    "Define helper functions that split the videos into training, validation, and test sets. The videos are downloaded from a URL with the zip file, and placed into their respective subdirectiories."
   ]
  },
  {
   "cell_type": "code",
   "execution_count": 112,
   "metadata": {
    "execution": {
     "iopub.execute_input": "2023-01-07T02:25:10.683698Z",
     "iopub.status.busy": "2023-01-07T02:25:10.683129Z",
     "iopub.status.idle": "2023-01-07T02:25:10.687406Z",
     "shell.execute_reply": "2023-01-07T02:25:10.686909Z"
    },
    "id": "AH9sWS_6nRz3"
   },
   "outputs": [],
   "source": [
    "# def download_from_zip(zip_url, to_dir, file_names):\n",
    "#   \"\"\" Download the contents of the zip file from the zip URL.\n",
    "\n",
    "#     Args:\n",
    "#       zip_url: A URL with a zip file containing data.\n",
    "#       to_dir: A directory to download data to.\n",
    "#       file_names: Names of files to download.\n",
    "#   \"\"\"\n",
    "#   with rz.RemoteZip(zip_url) as zip:\n",
    "#     for fn in tqdm.tqdm(file_names):\n",
    "#       class_name = get_class(fn)\n",
    "#       zip.extract(fn, str(to_dir / class_name))\n",
    "#       unzipped_file = to_dir / class_name / fn\n",
    "\n",
    "#       fn = pathlib.Path(fn).parts[-1]\n",
    "#       output_file = to_dir / class_name / fn\n",
    "#       unzipped_file.rename(output_file)\n",
    "        \n",
    "def download_from_zip(zip_file_path, to_dir, file_names):\n",
    "    \"\"\" \n",
    "    Download the contents of the zip file from the local zip file path.\n",
    "\n",
    "    Args:\n",
    "      zip_file_path: Local file path of the zip file.\n",
    "      to_dir: A directory to download data to.\n",
    "      file_names: Names of files to download.\n",
    "    \"\"\"\n",
    "    with zipfile.ZipFile(zip_file_path, 'r') as zip:\n",
    "        for fn in tqdm.tqdm(file_names):\n",
    "            class_name = get_class(fn)\n",
    "            zip.extract(fn, str(to_dir / class_name))\n",
    "            unzipped_file = to_dir / class_name / fn\n",
    "\n",
    "            fn = pathlib.Path(fn).parts[-1]\n",
    "            output_file = to_dir / class_name / fn\n",
    "            unzipped_file.rename(output_file)"
   ]
  },
  {
   "cell_type": "markdown",
   "metadata": {
    "id": "pejRTChA6mrp"
   },
   "source": [
    "The following function returns the remaining data that hasn't already been placed into a subset of data. It allows you to place that remaining data in the next specified subset of data."
   ]
  },
  {
   "cell_type": "code",
   "execution_count": 113,
   "metadata": {
    "execution": {
     "iopub.execute_input": "2023-01-07T02:25:10.690416Z",
     "iopub.status.busy": "2023-01-07T02:25:10.689988Z",
     "iopub.status.idle": "2023-01-07T02:25:10.693591Z",
     "shell.execute_reply": "2023-01-07T02:25:10.693016Z"
    },
    "id": "6ARYc-WLqqNF"
   },
   "outputs": [],
   "source": [
    "def split_class_lists(files_for_class, count):\n",
    "  \"\"\" Returns the list of files belonging to a subset of data as well as the remainder of\n",
    "    files that need to be downloaded.\n",
    "    \n",
    "    Args:\n",
    "      files_for_class: Files belonging to a particular class of data.\n",
    "      count: Number of files to download.\n",
    "\n",
    "    Returns:\n",
    "      Files belonging to the subset of data and dictionary of the remainder of files that need to be downloaded.\n",
    "  \"\"\"\n",
    "  split_files = []\n",
    "  remainder = {}\n",
    "  for cls in files_for_class:\n",
    "    split_files.extend(files_for_class[cls][:count])\n",
    "    remainder[cls] = files_for_class[cls][count:]\n",
    "  return split_files, remainder"
   ]
  },
  {
   "cell_type": "markdown",
   "metadata": {
    "id": "LlEQ_I0TLd1X"
   },
   "source": [
    "The following `download_ucf_101_subset` function allows you to download a subset of the UCF101 dataset and split it into the training, validation, and test sets. You can specify the number of classes that you would like to use. The `splits` argument allows you to pass in a dictionary in which the key values are the name of subset (example: \"train\") and the number of videos you would like to have per class."
   ]
  },
  {
   "cell_type": "code",
   "execution_count": 114,
   "metadata": {
    "execution": {
     "iopub.execute_input": "2023-01-07T02:25:10.696763Z",
     "iopub.status.busy": "2023-01-07T02:25:10.696387Z",
     "iopub.status.idle": "2023-01-07T02:25:10.701668Z",
     "shell.execute_reply": "2023-01-07T02:25:10.701142Z"
    },
    "id": "IHH2Y1M06xoz"
   },
   "outputs": [],
   "source": [
    "# def download_ucf_101_subset(zip_url, num_classes, splits, download_dir):\n",
    "#   \"\"\" Download a subset of the UCF101 dataset and split them into various parts, such as\n",
    "#     training, validation, and test.\n",
    "\n",
    "#     Args:\n",
    "#       zip_url: A URL with a ZIP file with the data.\n",
    "#       num_classes: Number of labels.\n",
    "#       splits: Dictionary specifying the training, validation, test, etc. (key) division of data \n",
    "#               (value is number of files per split).\n",
    "#       download_dir: Directory to download data to.\n",
    "\n",
    "#     Return:\n",
    "#       Mapping of the directories containing the subsections of data.\n",
    "#   \"\"\"\n",
    "#   files = list_files_from_zip_url(zip_url)\n",
    "#   for f in files:\n",
    "#     path = os.path.normpath(f)\n",
    "#     tokens = path.split(os.sep)\n",
    "#     if len(tokens) <= 2:\n",
    "#       files.remove(f) # Remove that item from the list if it does not have a filename\n",
    "  \n",
    "#   files_for_class = get_files_per_class(files)\n",
    "\n",
    "#   classes = list(files_for_class.keys())[:num_classes]\n",
    "\n",
    "#   for cls in classes:\n",
    "#     random.shuffle(files_for_class[cls])\n",
    "    \n",
    "#   # Only use the number of classes you want in the dictionary\n",
    "#   files_for_class = {x: files_for_class[x] for x in classes}\n",
    "\n",
    "#   dirs = {}\n",
    "#   for split_name, split_count in splits.items():\n",
    "#     print(split_name, \":\")\n",
    "#     split_dir = download_dir / split_name\n",
    "#     split_files, files_for_class = split_class_lists(files_for_class, split_count)\n",
    "#     download_from_zip(zip_url, split_dir, split_files)\n",
    "#     dirs[split_name] = split_dir\n",
    "\n",
    "#   return dirs\n",
    "\n",
    "import os\n",
    "import random\n",
    "import pathlib\n",
    "\n",
    "def download_ucf_101_subset(zip_file_path, num_classes, splits, download_dir):\n",
    "    \"\"\" \n",
    "    Download a subset of the UCF101 dataset and split them into various parts,\n",
    "    such as training, validation, and test.\n",
    "\n",
    "    Args:\n",
    "      zip_file_path: Local file path of the ZIP file with the data.\n",
    "      num_classes: Number of labels.\n",
    "      splits: Dictionary specifying the training, validation, test, etc. (key) division of data \n",
    "              (value is the number of files per split).\n",
    "      download_dir: Directory to download data to.\n",
    "\n",
    "    Returns:\n",
    "      Mapping of the directories containing the subsections of data.\n",
    "    \"\"\"\n",
    "    files = list_files_from_zip_path(zip_file_path)\n",
    "    \n",
    "    files = [f for f in files if os.path.basename(f)]  # Remove items without filenames\n",
    "    \n",
    "    files_for_class = get_files_per_class(files)\n",
    "\n",
    "    classes = list(files_for_class.keys())[:num_classes]\n",
    "    for cls in classes:\n",
    "        random.shuffle(files_for_class[cls])\n",
    "\n",
    "    # Only use the number of classes you want in the dictionary\n",
    "    files_for_class = {x: files_for_class[x] for x in classes}\n",
    "\n",
    "    dirs = {}\n",
    "    for split_name, split_count in splits.items():\n",
    "        print(split_name, \":\")\n",
    "        split_dir = pathlib.Path(download_dir) / split_name\n",
    "        split_files, files_for_class = split_class_lists(files_for_class, split_count)\n",
    "        download_from_zip(zip_file_path, split_dir, split_files)\n",
    "        dirs[split_name] = split_dir\n",
    "\n",
    "    return dirs\n"
   ]
  },
  {
   "cell_type": "code",
   "execution_count": 115,
   "metadata": {
    "execution": {
     "iopub.execute_input": "2023-01-07T02:25:10.704951Z",
     "iopub.status.busy": "2023-01-07T02:25:10.704509Z",
     "iopub.status.idle": "2023-01-07T02:25:53.077388Z",
     "shell.execute_reply": "2023-01-07T02:25:53.076683Z"
    },
    "id": "NuD-xU8Q66Vm",
    "scrolled": true
   },
   "outputs": [
    {
     "name": "stdout",
     "output_type": "stream",
     "text": [
      "train :\n"
     ]
    },
    {
     "name": "stderr",
     "output_type": "stream",
     "text": [
      "100%|███████████████████████████████████████████████████████████████████████████████████████████████████████████████████████████| 40/40 [00:00<00:00, 502.34it/s]\n"
     ]
    },
    {
     "name": "stdout",
     "output_type": "stream",
     "text": [
      "val :\n"
     ]
    },
    {
     "name": "stderr",
     "output_type": "stream",
     "text": [
      "100%|███████████████████████████████████████████████████████████████████████████████████████████████████████████████████████████| 12/12 [00:00<00:00, 618.49it/s]\n"
     ]
    },
    {
     "name": "stdout",
     "output_type": "stream",
     "text": [
      "test :\n"
     ]
    },
    {
     "name": "stderr",
     "output_type": "stream",
     "text": [
      "100%|█████████████████████████████████████████████████████████████████████████████████████████████████████████████████████████████| 8/8 [00:00<00:00, 540.73it/s]\n"
     ]
    }
   ],
   "source": [
    "download_dir = pathlib.Path('./UCF101_subset/')\n",
    "subset_paths = download_ucf_101_subset(FILEPATH,\n",
    "                                       num_classes = NUM_CLASSES,\n",
    "                                       splits = {\"train\": 10, \"val\": 3, \"test\": 2},\n",
    "                                       download_dir = download_dir)"
   ]
  },
  {
   "cell_type": "code",
   "execution_count": 116,
   "metadata": {},
   "outputs": [
    {
     "name": "stdout",
     "output_type": "stream",
     "text": [
      "cool_1.mp4   cool_12.mp4  cool_16.mp4  cool_4.mp4  cool_8.mp4\r\n",
      "cool_10.mp4  cool_13.mp4  cool_2.mp4   cool_5.mp4  cool_9.mp4\r\n",
      "cool_11.mp4  cool_15.mp4  cool_3.mp4   cool_7.mp4\r\n"
     ]
    }
   ],
   "source": [
    "!ls UCF101_subset/train/cool"
   ]
  },
  {
   "cell_type": "markdown",
   "metadata": {
    "id": "MBMRm9Ub3Zrk"
   },
   "source": [
    "After downloading the data, you should now have a copy of a subset of the UCF101 dataset. Run the following code to print the total number of videos you have amongst all your subsets of data."
   ]
  },
  {
   "cell_type": "code",
   "execution_count": 117,
   "metadata": {
    "execution": {
     "iopub.execute_input": "2023-01-07T02:25:53.081081Z",
     "iopub.status.busy": "2023-01-07T02:25:53.080501Z",
     "iopub.status.idle": "2023-01-07T02:25:53.086867Z",
     "shell.execute_reply": "2023-01-07T02:25:53.086243Z"
    },
    "id": "zupvOLYP4D4q"
   },
   "outputs": [
    {
     "name": "stdout",
     "output_type": "stream",
     "text": [
      "Total videos: 93\n"
     ]
    }
   ],
   "source": [
    "video_count_train = len(list(download_dir.glob('train/*/*.mp4')))\n",
    "video_count_val = len(list(download_dir.glob('val/*/*.mp4')))\n",
    "video_count_test = len(list(download_dir.glob('test/*/*.mp4')))\n",
    "video_total = video_count_train + video_count_val + video_count_test\n",
    "print(f\"Total videos: {video_total}\")"
   ]
  },
  {
   "cell_type": "markdown",
   "metadata": {
    "id": "JmJG1SlXiOX8"
   },
   "source": [
    "You can also preview the directory of data files now."
   ]
  },
  {
   "cell_type": "code",
   "execution_count": 118,
   "metadata": {
    "execution": {
     "iopub.execute_input": "2023-01-07T02:25:53.090251Z",
     "iopub.status.busy": "2023-01-07T02:25:53.089815Z",
     "iopub.status.idle": "2023-01-07T02:25:53.219244Z",
     "shell.execute_reply": "2023-01-07T02:25:53.218521Z"
    },
    "id": "y9be0WlDiNM0"
   },
   "outputs": [
    {
     "name": "stdout",
     "output_type": "stream",
     "text": [
      "./UCF101_subset\r\n",
      "./UCF101_subset/train\r\n",
      "./UCF101_subset/train/cool\r\n",
      "./UCF101_subset/train/cool/cool_11.mp4\r\n",
      "./UCF101_subset/train/cool/cool_16.mp4\r\n",
      "./UCF101_subset/train/cool/cool_7.mp4\r\n",
      "./UCF101_subset/train/cool/cool_1.mp4\r\n",
      "./UCF101_subset/train/cool/cool_3.mp4\r\n",
      "./UCF101_subset/train/cool/cool_13.mp4\r\n",
      "./UCF101_subset/train/cool/cool_2.mp4\r\n",
      "./UCF101_subset/train/cool/cool_9.mp4\r\n",
      "./UCF101_subset/train/cool/cool_4.mp4\r\n",
      "./UCF101_subset/train/cool/cool_15.mp4\r\n",
      "./UCF101_subset/train/cool/cool_12.mp4\r\n",
      "./UCF101_subset/train/cool/cool_8.mp4\r\n",
      "./UCF101_subset/train/cool/cool_5.mp4\r\n",
      "./UCF101_subset/train/cool/cool_10.mp4\r\n",
      "./UCF101_subset/train/go\r\n",
      "./UCF101_subset/train/go/go_2.mp4\r\n",
      "./UCF101_subset/train/go/go_3.mp4\r\n",
      "./UCF101_subset/train/go/go_4.mp4\r\n",
      "./UCF101_subset/train/go/go_13.mp4\r\n",
      "./UCF101_subset/train/go/go_5.mp4\r\n",
      "./UCF101_subset/train/go/go_14.mp4\r\n",
      "./UCF101_subset/train/go/go_15.mp4\r\n",
      "./UCF101_subset/train/go/go_9.mp4\r\n",
      "./UCF101_subset/train/go/go_8.mp4\r\n",
      "./UCF101_subset/train/go/go_11.mp4\r\n",
      "./UCF101_subset/train/go/go_1.mp4\r\n",
      "./UCF101_subset/train/go/go_7.mp4\r\n",
      "./UCF101_subset/train/go/go_10.mp4\r\n",
      "./UCF101_subset/train/before\r\n",
      "./UCF101_subset/train/before/before_13.mp4\r\n",
      "./UCF101_subset/train/before/before_1.mp4\r\n",
      "./UCF101_subset/train/before/before_12.mp4\r\n",
      "./UCF101_subset/train/before/before_7.mp4\r\n",
      "./UCF101_subset/train/before/before_2.mp4\r\n",
      "./UCF101_subset/train/before/before_10.mp4\r\n",
      "./UCF101_subset/train/before/before_6.mp4\r\n",
      "./UCF101_subset/train/before/before_5.mp4\r\n",
      "./UCF101_subset/train/before/before_11.mp4\r\n",
      "./UCF101_subset/train/before/before_4.mp4\r\n",
      "./UCF101_subset/train/before/before_15.mp4\r\n",
      "./UCF101_subset/train/before/before_16.mp4\r\n",
      "./UCF101_subset/train/before/before_3.mp4\r\n",
      "./UCF101_subset/train/before/before_8.mp4\r\n",
      "./UCF101_subset/train/drink\r\n",
      "./UCF101_subset/train/drink/drink_14.mp4\r\n",
      "./UCF101_subset/train/drink/drink_3.mp4\r\n",
      "./UCF101_subset/train/drink/drink_1.mp4\r\n",
      "./UCF101_subset/train/drink/drink_8.mp4\r\n",
      "./UCF101_subset/train/drink/drink_4.mp4\r\n",
      "./UCF101_subset/train/drink/drink_15.mp4\r\n",
      "./UCF101_subset/train/drink/drink_5.mp4\r\n",
      "./UCF101_subset/train/drink/drink_2.mp4\r\n",
      "./UCF101_subset/train/drink/drink_6.mp4\r\n",
      "./UCF101_subset/train/drink/drink_10.mp4\r\n",
      "./UCF101_subset/train/drink/drink_12.mp4\r\n",
      "./UCF101_subset/train/drink/drink_7.mp4\r\n",
      "./UCF101_subset/train/drink/drink_11.mp4\r\n",
      "./UCF101_subset/train/drink/drink_9.mp4\r\n",
      "./UCF101_subset/val\r\n",
      "./UCF101_subset/val/cool\r\n",
      "./UCF101_subset/val/cool/cool_14.mp4\r\n",
      "./UCF101_subset/val/cool/cool_1.mp4\r\n",
      "./UCF101_subset/val/cool/cool_6.mp4\r\n",
      "./UCF101_subset/val/cool/cool_2.mp4\r\n",
      "./UCF101_subset/val/cool/cool_12.mp4\r\n",
      "./UCF101_subset/val/go\r\n",
      "./UCF101_subset/val/go/go_13.mp4\r\n",
      "./UCF101_subset/val/go/go_6.mp4\r\n",
      "./UCF101_subset/val/go/go_9.mp4\r\n",
      "./UCF101_subset/val/go/go_1.mp4\r\n",
      "./UCF101_subset/val/go/go_12.mp4\r\n",
      "./UCF101_subset/val/go/go_10.mp4\r\n",
      "./UCF101_subset/val/before\r\n",
      "./UCF101_subset/val/before/before_7.mp4\r\n",
      "./UCF101_subset/val/before/before_6.mp4\r\n",
      "./UCF101_subset/val/before/before_15.mp4\r\n",
      "./UCF101_subset/val/before/before_16.mp4\r\n",
      "./UCF101_subset/val/before/before_14.mp4\r\n",
      "./UCF101_subset/val/before/before_9.mp4\r\n",
      "./UCF101_subset/val/drink\r\n",
      "./UCF101_subset/val/drink/drink_14.mp4\r\n",
      "./UCF101_subset/val/drink/drink_3.mp4\r\n",
      "./UCF101_subset/val/drink/drink_5.mp4\r\n",
      "./UCF101_subset/val/drink/drink_2.mp4\r\n",
      "./UCF101_subset/val/drink/drink_12.mp4\r\n",
      "./UCF101_subset/val/drink/drink_9.mp4\r\n",
      "./UCF101_subset/test\r\n",
      "./UCF101_subset/test/cool\r\n",
      "./UCF101_subset/test/cool/cool_7.mp4\r\n",
      "./UCF101_subset/test/cool/cool_13.mp4\r\n",
      "./UCF101_subset/test/cool/cool_15.mp4\r\n",
      "./UCF101_subset/test/cool/cool_10.mp4\r\n",
      "./UCF101_subset/test/go\r\n",
      "./UCF101_subset/test/go/go_6.mp4\r\n",
      "./UCF101_subset/test/go/go_15.mp4\r\n",
      "./UCF101_subset/test/go/go_7.mp4\r\n",
      "./UCF101_subset/test/go/go_12.mp4\r\n",
      "./UCF101_subset/test/before\r\n",
      "./UCF101_subset/test/before/before_12.mp4\r\n",
      "./UCF101_subset/test/before/before_10.mp4\r\n",
      "./UCF101_subset/test/before/before_14.mp4\r\n",
      "./UCF101_subset/test/before/before_9.mp4\r\n",
      "./UCF101_subset/test/drink\r\n",
      "./UCF101_subset/test/drink/drink_8.mp4\r\n",
      "./UCF101_subset/test/drink/drink_13.mp4\r\n",
      "./UCF101_subset/test/drink/drink_7.mp4\r\n"
     ]
    }
   ],
   "source": [
    "!find ./UCF101_subset"
   ]
  },
  {
   "cell_type": "code",
   "execution_count": 119,
   "metadata": {},
   "outputs": [
    {
     "name": "stdout",
     "output_type": "stream",
     "text": [
      "before\tcool  drink  go\r\n"
     ]
    }
   ],
   "source": [
    "!ls UCF101_subset/test"
   ]
  },
  {
   "cell_type": "markdown",
   "metadata": {
    "id": "U4uslY4dScyu"
   },
   "source": [
    "## Create frames from each video file"
   ]
  },
  {
   "cell_type": "markdown",
   "metadata": {
    "id": "D1vvyT0F7JAZ"
   },
   "source": [
    "The `frames_from_video_file` function splits the videos into frames, reads a randomly chosen span of `n_frames` out of a video file, and returns them as a NumPy `array`.\n",
    "To reduce memory and computation overhead, choose a **small** number of frames. In addition, pick the **same** number of frames from each video, which makes it easier to work on batches of data.\n"
   ]
  },
  {
   "cell_type": "code",
   "execution_count": 120,
   "metadata": {
    "execution": {
     "iopub.execute_input": "2023-01-07T02:25:53.223252Z",
     "iopub.status.busy": "2023-01-07T02:25:53.223009Z",
     "iopub.status.idle": "2023-01-07T02:25:53.227045Z",
     "shell.execute_reply": "2023-01-07T02:25:53.226442Z"
    },
    "id": "vNBCiV3bMzpD"
   },
   "outputs": [],
   "source": [
    "def format_frames(frame, output_size):\n",
    "  \"\"\"\n",
    "    Pad and resize an image from a video.\n",
    "    \n",
    "    Args:\n",
    "      frame: Image that needs to resized and padded. \n",
    "      output_size: Pixel size of the output frame image.\n",
    "\n",
    "    Return:\n",
    "      Formatted frame with padding of specified output size.\n",
    "  \"\"\"\n",
    "  frame = tf.image.convert_image_dtype(frame, tf.float32)\n",
    "  frame = tf.image.resize_with_pad(frame, *output_size)\n",
    "  return frame"
   ]
  },
  {
   "cell_type": "code",
   "execution_count": 121,
   "metadata": {
    "execution": {
     "iopub.execute_input": "2023-01-07T02:25:53.230322Z",
     "iopub.status.busy": "2023-01-07T02:25:53.229782Z",
     "iopub.status.idle": "2023-01-07T02:25:53.235610Z",
     "shell.execute_reply": "2023-01-07T02:25:53.235072Z"
    },
    "id": "9ujLDC9G7JyE"
   },
   "outputs": [],
   "source": [
    "def frames_from_video_file(video_path, n_frames, output_size = (224,224), frame_step = 1):\n",
    "  \"\"\"\n",
    "    Creates frames from each video file present for each category.\n",
    "\n",
    "    Args:\n",
    "      video_path: File path to the video.\n",
    "      n_frames: Number of frames to be created per video file.\n",
    "      output_size: Pixel size of the output frame image.\n",
    "\n",
    "    Return:\n",
    "      An NumPy array of frames in the shape of (n_frames, height, width, channels).\n",
    "  \"\"\"\n",
    "  # Read each video frame by frame\n",
    "  result = []\n",
    "  src = cv2.VideoCapture(str(video_path))  \n",
    "\n",
    "  video_length = src.get(cv2.CAP_PROP_FRAME_COUNT)\n",
    "\n",
    "  need_length = 1 + (n_frames - 1) * frame_step\n",
    "\n",
    "  if need_length > video_length:\n",
    "    start = 0\n",
    "  else:\n",
    "    max_start = video_length - need_length\n",
    "    start = random.randint(0, max_start + 1)\n",
    "\n",
    "  src.set(cv2.CAP_PROP_POS_FRAMES, start)\n",
    "  # ret is a boolean indicating whether read was successful, frame is the image itself\n",
    "  ret, frame = src.read()\n",
    "  result.append(format_frames(frame, output_size))\n",
    "\n",
    "  for _ in range(n_frames - 1):\n",
    "    for _ in range(frame_step):\n",
    "      ret, frame = src.read()\n",
    "    if ret:\n",
    "      frame = format_frames(frame, output_size)\n",
    "      result.append(frame)\n",
    "    else:\n",
    "      result.append(np.zeros_like(result[0]))\n",
    "  src.release()\n",
    "  result = np.array(result)[..., [2, 1, 0]]\n",
    "\n",
    "  return result"
   ]
  },
  {
   "cell_type": "markdown",
   "metadata": {
    "id": "1ENtlwhxwyTe"
   },
   "source": [
    "## Visualize video data\n",
    "\n",
    "The `frames_from_video_file` function that returns a set of frames as a NumPy array. Try using this function on a new video from [Wikimedia](https://commons.wikimedia.org/wiki/Category:Videos_of_sports){:.external} by Patrick Gillett:"
   ]
  },
  {
   "cell_type": "code",
   "execution_count": 122,
   "metadata": {
    "execution": {
     "iopub.execute_input": "2023-01-07T02:25:53.238907Z",
     "iopub.status.busy": "2023-01-07T02:25:53.238460Z",
     "iopub.status.idle": "2023-01-07T02:25:55.504918Z",
     "shell.execute_reply": "2023-01-07T02:25:55.503891Z"
    },
    "id": "Z2hgSghlykzA"
   },
   "outputs": [
    {
     "name": "stdout",
     "output_type": "stream",
     "text": [
      "  % Total    % Received % Xferd  Average Speed   Time    Time     Time  Current\n",
      "                                 Dload  Upload   Total   Spent    Left  Speed\n",
      "100 55.0M  100 55.0M    0     0  2595k      0  0:00:21  0:00:21 --:--:-- 3556k\n"
     ]
    }
   ],
   "source": [
    "!curl -O https://upload.wikimedia.org/wikipedia/commons/8/86/End_of_a_jam.ogv"
   ]
  },
  {
   "cell_type": "code",
   "execution_count": 123,
   "metadata": {
    "execution": {
     "iopub.execute_input": "2023-01-07T02:25:55.509394Z",
     "iopub.status.busy": "2023-01-07T02:25:55.508754Z",
     "iopub.status.idle": "2023-01-07T02:25:55.512375Z",
     "shell.execute_reply": "2023-01-07T02:25:55.511765Z"
    },
    "id": "xdHvHw3hym-U"
   },
   "outputs": [],
   "source": [
    "video_path = \"End_of_a_jam.ogv\""
   ]
  },
  {
   "cell_type": "code",
   "execution_count": null,
   "metadata": {
    "execution": {
     "iopub.execute_input": "2023-01-07T02:25:55.515794Z",
     "iopub.status.busy": "2023-01-07T02:25:55.515317Z",
     "iopub.status.idle": "2023-01-07T02:25:59.276967Z",
     "shell.execute_reply": "2023-01-07T02:25:59.276307Z"
    },
    "id": "u845YODXyqo5"
   },
   "outputs": [],
   "source": [
    "# sample_video = frames_from_video_file(video_path, n_frames = 10)\n",
    "# sample_video.shape"
   ]
  },
  {
   "cell_type": "markdown",
   "metadata": {
    "id": "3dktTnDVG7xf"
   },
   "source": [
    "In addition to examining this video, you can also display the UCF-101 data. To do this, run the following code:"
   ]
  },
  {
   "cell_type": "code",
   "execution_count": null,
   "metadata": {
    "id": "MghJzJsWme0t"
   },
   "outputs": [],
   "source": [
    "# docs-infra: no-execute\n",
    "# ucf_sample_video = frames_from_video_file(next(subset_paths['train'].glob('*/*.mp4')), 50)\n",
    "# to_gif(ucf_sample_video)"
   ]
  },
  {
   "cell_type": "markdown",
   "metadata": {
    "id": "NlvuC5_E7XrF"
   },
   "source": [
    "Next, define the `FrameGenerator` class in order to create an iterable object that can feed data into the TensorFlow data pipeline. The generator (`__call__`) function yields the frame array produced by `frames_from_video_file` and a one-hot encoded vector of the label associated with the set of frames."
   ]
  },
  {
   "cell_type": "code",
   "execution_count": 1,
   "metadata": {
    "execution": {
     "iopub.execute_input": "2023-01-07T02:25:59.595161Z",
     "iopub.status.busy": "2023-01-07T02:25:59.594676Z",
     "iopub.status.idle": "2023-01-07T02:25:59.600720Z",
     "shell.execute_reply": "2023-01-07T02:25:59.600103Z"
    },
    "id": "MVmfLTlw7Ues"
   },
   "outputs": [],
   "source": [
    "class FrameGenerator:\n",
    "  def __init__(self, path, n_frames, training = False):\n",
    "    \"\"\" Returns a set of frames with their associated label. \n",
    "\n",
    "      Args:\n",
    "        path: Video file paths.\n",
    "        n_frames: Number of frames. \n",
    "        training: Boolean to determine if training dataset is being created.\n",
    "    \"\"\"\n",
    "    self.path = path\n",
    "    self.n_frames = n_frames\n",
    "    self.training = training\n",
    "    self.class_names = sorted(set(p.name for p in self.path.iterdir() if p.is_dir()))\n",
    "    self.class_ids_for_name = dict((name, idx) for idx, name in enumerate(self.class_names))\n",
    "\n",
    "  def get_files_and_class_names(self):\n",
    "    video_paths = list(self.path.glob('*/*.mp4'))\n",
    "    classes = [p.parent.name for p in video_paths] \n",
    "    return video_paths, classes\n",
    "\n",
    "  def __call__(self):\n",
    "    video_paths, classes = self.get_files_and_class_names()\n",
    "\n",
    "    pairs = list(zip(video_paths, classes))\n",
    "\n",
    "    if self.training:\n",
    "      random.shuffle(pairs)\n",
    "\n",
    "    for path, name in pairs:\n",
    "      video_frames = frames_from_video_file(path, self.n_frames) \n",
    "      label = self.class_ids_for_name[name] # Encode labels\n",
    "      yield video_frames, label"
   ]
  },
  {
   "cell_type": "markdown",
   "metadata": {
    "id": "xsvhPIkpzx-r"
   },
   "source": [
    "Test out the `FrameGenerator` object before wrapping it as a TensorFlow Dataset object. Moreover, for the training dataset, ensure you enable training mode so that the data will be shuffled."
   ]
  },
  {
   "cell_type": "code",
   "execution_count": null,
   "metadata": {
    "execution": {
     "iopub.execute_input": "2023-01-07T02:25:59.603817Z",
     "iopub.status.busy": "2023-01-07T02:25:59.603363Z",
     "iopub.status.idle": "2023-01-07T02:25:59.681927Z",
     "shell.execute_reply": "2023-01-07T02:25:59.681243Z"
    },
    "id": "P5jwagZxzxOf"
   },
   "outputs": [],
   "source": [
    "fg = FrameGenerator(subset_paths['train'], 30, training=True)\n",
    "\n",
    "frames, label = next(fg())\n",
    "\n",
    "print(f\"Shape: {frames.shape}\")\n",
    "print(f\"Label: {label}\")"
   ]
  },
  {
   "cell_type": "markdown",
   "metadata": {
    "id": "E7MRRFSks7l1"
   },
   "source": [
    "Finally, create a TensorFlow data input pipeline. This pipeline that you create from the generator object allows you to feed in data to your deep learning model. In this video pipeline, each element is a single set of frames and its associated label. "
   ]
  },
  {
   "cell_type": "code",
   "execution_count": null,
   "metadata": {
    "execution": {
     "iopub.execute_input": "2023-01-07T02:25:59.685183Z",
     "iopub.status.busy": "2023-01-07T02:25:59.684722Z",
     "iopub.status.idle": "2023-01-07T02:25:59.716135Z",
     "shell.execute_reply": "2023-01-07T02:25:59.715546Z"
    },
    "id": "HM4NboJr7ck4"
   },
   "outputs": [],
   "source": [
    "# Create the training set\n",
    "output_signature = (tf.TensorSpec(shape = (None, None, None, 3), dtype = tf.float32),\n",
    "                    tf.TensorSpec(shape = (), dtype = tf.int16))\n",
    "train_ds = tf.data.Dataset.from_generator(FrameGenerator(subset_paths['train'], 10, training=True),\n",
    "                                          output_signature = output_signature)"
   ]
  },
  {
   "cell_type": "markdown",
   "metadata": {
    "id": "9oF_8m8IZvcY"
   },
   "source": [
    "Check to see that the labels are shuffled. "
   ]
  },
  {
   "cell_type": "code",
   "execution_count": null,
   "metadata": {
    "execution": {
     "iopub.execute_input": "2023-01-07T02:25:59.719840Z",
     "iopub.status.busy": "2023-01-07T02:25:59.719234Z",
     "iopub.status.idle": "2023-01-07T02:26:00.598566Z",
     "shell.execute_reply": "2023-01-07T02:26:00.597794Z"
    },
    "id": "3XYVmsgiZsJD"
   },
   "outputs": [],
   "source": [
    "for frames, labels in train_ds.take(10):\n",
    "  print(labels)"
   ]
  },
  {
   "cell_type": "code",
   "execution_count": null,
   "metadata": {
    "execution": {
     "iopub.execute_input": "2023-01-07T02:26:00.602125Z",
     "iopub.status.busy": "2023-01-07T02:26:00.601581Z",
     "iopub.status.idle": "2023-01-07T02:26:00.625172Z",
     "shell.execute_reply": "2023-01-07T02:26:00.624576Z"
    },
    "id": "Pi8-WkOkEXw5"
   },
   "outputs": [],
   "source": [
    "# Create the validation set\n",
    "val_ds = tf.data.Dataset.from_generator(FrameGenerator(subset_paths['val'], 10),\n",
    "                                        output_signature = output_signature)"
   ]
  },
  {
   "cell_type": "code",
   "execution_count": null,
   "metadata": {
    "execution": {
     "iopub.execute_input": "2023-01-07T02:26:00.628590Z",
     "iopub.status.busy": "2023-01-07T02:26:00.627990Z",
     "iopub.status.idle": "2023-01-07T02:26:01.172088Z",
     "shell.execute_reply": "2023-01-07T02:26:01.171417Z"
    },
    "id": "V6qXc-6i7eyK"
   },
   "outputs": [],
   "source": [
    "# Print the shapes of the data\n",
    "train_frames, train_labels = next(iter(train_ds))\n",
    "print(f'Shape of training set of frames: {train_frames.shape}')\n",
    "print(f'Shape of training labels: {train_labels.shape}')\n",
    "\n",
    "val_frames, val_labels = next(iter(val_ds))\n",
    "print(f'Shape of validation set of frames: {val_frames.shape}')\n",
    "print(f'Shape of validation labels: {val_labels.shape}')"
   ]
  },
  {
   "cell_type": "markdown",
   "metadata": {
    "id": "bIrFpUIxvTLe"
   },
   "source": [
    "## Configure the dataset for performance\n",
    "\n",
    "Use buffered prefetching such that you can yield data from the disk without having I/O become blocking. Two important functions to use while loading data are:\n",
    "\n",
    "* `Dataset.cache`: keeps the sets of frames in memory after they're loaded off the disk during the first epoch. This function ensures that the dataset does not become a bottleneck while training your model. If your dataset is too large to fit into memory, you can also use this method to create a performant on-disk cache.\n",
    "\n",
    "* `Dataset.prefetch`: overlaps data preprocessing and model execution while training.\n",
    "Refer to [Better performance with the `tf.data`](https://www.tensorflow.org/guide/data_performance) for details."
   ]
  },
  {
   "cell_type": "code",
   "execution_count": null,
   "metadata": {
    "execution": {
     "iopub.execute_input": "2023-01-07T02:26:01.175977Z",
     "iopub.status.busy": "2023-01-07T02:26:01.175398Z",
     "iopub.status.idle": "2023-01-07T02:26:01.187532Z",
     "shell.execute_reply": "2023-01-07T02:26:01.186888Z"
    },
    "id": "QSxjFtxAvY3_"
   },
   "outputs": [],
   "source": [
    "AUTOTUNE = tf.data.AUTOTUNE\n",
    "\n",
    "train_ds = train_ds.cache().shuffle(1000).prefetch(buffer_size = AUTOTUNE)\n",
    "val_ds = val_ds.cache().shuffle(1000).prefetch(buffer_size = AUTOTUNE)"
   ]
  },
  {
   "cell_type": "markdown",
   "metadata": {
    "id": "VaY-hyr-Fbfr"
   },
   "source": [
    "To prepare the data to be fed into the model, use batching as shown below. Notice that when working with video data, such as AVI files, the data should be shaped as a five dimensional object. These dimensions are as follows: `[batch_size, number_of_frames, height, width, channels]`. In comparison, an image would have four dimensions: `[batch_size, height, width, channels]`. The image below is an illustration of how the shape of video data is represented.\n",
    "\n",
    "![Video data shape](https://www.tensorflow.org/images/tutorials/video/video_data_shape.png)\n"
   ]
  },
  {
   "cell_type": "code",
   "execution_count": null,
   "metadata": {
    "execution": {
     "iopub.execute_input": "2023-01-07T02:26:01.190867Z",
     "iopub.status.busy": "2023-01-07T02:26:01.190259Z",
     "iopub.status.idle": "2023-01-07T02:26:38.272583Z",
     "shell.execute_reply": "2023-01-07T02:26:38.271905Z"
    },
    "id": "pp2Qc6XSFmeB"
   },
   "outputs": [],
   "source": [
    "train_ds = train_ds.batch(2)\n",
    "val_ds = val_ds.batch(2)\n",
    "\n",
    "train_frames, train_labels = next(iter(train_ds))\n",
    "print(f'Shape of training set of frames: {train_frames.shape}')\n",
    "print(f'Shape of training labels: {train_labels.shape}')\n",
    "\n",
    "val_frames, val_labels = next(iter(val_ds))\n",
    "print(f'Shape of validation set of frames: {val_frames.shape}')\n",
    "print(f'Shape of validation labels: {val_labels.shape}')"
   ]
  },
  {
   "cell_type": "markdown",
   "metadata": {
    "id": "hqjXn1FgsMqZ"
   },
   "source": [
    "## Next steps\n",
    "\n",
    "Now that you have created a TensorFlow `Dataset` of video frames with their labels, you can use it with a deep learning model. The following classification model that uses a pre-trained [EfficientNet](https://arxiv.org/abs/1905.11946){:.external} trains to high accuracy in a few minutes:"
   ]
  },
  {
   "cell_type": "code",
   "execution_count": null,
   "metadata": {
    "execution": {
     "iopub.execute_input": "2023-01-07T02:26:38.276159Z",
     "iopub.status.busy": "2023-01-07T02:26:38.275921Z",
     "iopub.status.idle": "2023-01-07T02:27:48.049872Z",
     "shell.execute_reply": "2023-01-07T02:27:48.049102Z"
    },
    "id": "qzqgPBUuForj"
   },
   "outputs": [],
   "source": [
    "net = tf.keras.applications.EfficientNetB0(include_top = False)\n",
    "net.trainable = False\n",
    "\n",
    "model = tf.keras.Sequential([\n",
    "    tf.keras.layers.Rescaling(scale=255),\n",
    "    tf.keras.layers.TimeDistributed(net),\n",
    "    tf.keras.layers.Dense(10),\n",
    "    tf.keras.layers.GlobalAveragePooling3D()\n",
    "])\n",
    "\n",
    "model.compile(optimizer = 'adam',\n",
    "              loss=tf.keras.losses.SparseCategoricalCrossentropy(from_logits = True),\n",
    "              metrics=['accuracy'])\n",
    "\n",
    "model.fit(train_ds, \n",
    "          epochs = 10,\n",
    "          validation_data = val_ds,\n",
    "          callbacks = tf.keras.callbacks.EarlyStopping(patience = 2, monitor = 'val_loss'))"
   ]
  },
  {
   "cell_type": "markdown",
   "metadata": {
    "id": "DdJm7ojgGxtT"
   },
   "source": [
    "To learn more about working with video data in TensorFlow, check out the following tutorials:\n",
    "\n",
    "* [Build a 3D CNN model for video classification](https://www.tensorflow.org/tutorials/video/video_classification)\n",
    "* [MoViNet for streaming action recognition](https://www.tensorflow.org/hub/tutorials/movinet)\n",
    "* [Transfer learning for video classification with MoViNet](https://www.tensorflow.org/tutorials/video/transfer_learning_with_movinet)"
   ]
  }
 ],
 "metadata": {
  "accelerator": "GPU",
  "colab": {
   "name": "video.ipynb",
   "toc_visible": true
  },
  "kernelspec": {
   "display_name": "Python 3 (ipykernel)",
   "language": "python",
   "name": "python3"
  },
  "language_info": {
   "codemirror_mode": {
    "name": "ipython",
    "version": 3
   },
   "file_extension": ".py",
   "mimetype": "text/x-python",
   "name": "python",
   "nbconvert_exporter": "python",
   "pygments_lexer": "ipython3",
   "version": "3.8.10"
  }
 },
 "nbformat": 4,
 "nbformat_minor": 1
}
